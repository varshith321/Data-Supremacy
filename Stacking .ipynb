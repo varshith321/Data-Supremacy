{
 "cells": [
  {
   "cell_type": "code",
   "execution_count": 31,
   "metadata": {},
   "outputs": [
    {
     "name": "stderr",
     "output_type": "stream",
     "text": [
      "c:\\users\\admin\\appdata\\local\\programs\\python\\python36\\lib\\site-packages\\ipykernel_launcher.py:24: SettingWithCopyWarning: \n",
      "A value is trying to be set on a copy of a slice from a DataFrame\n",
      "\n",
      "See the caveats in the documentation: http://pandas.pydata.org/pandas-docs/stable/indexing.html#indexing-view-versus-copy\n",
      "c:\\users\\admin\\appdata\\local\\programs\\python\\python36\\lib\\site-packages\\ipykernel_launcher.py:25: SettingWithCopyWarning: \n",
      "A value is trying to be set on a copy of a slice from a DataFrame\n",
      "\n",
      "See the caveats in the documentation: http://pandas.pydata.org/pandas-docs/stable/indexing.html#indexing-view-versus-copy\n",
      "c:\\users\\admin\\appdata\\local\\programs\\python\\python36\\lib\\site-packages\\ipykernel_launcher.py:27: SettingWithCopyWarning: \n",
      "A value is trying to be set on a copy of a slice from a DataFrame\n",
      "\n",
      "See the caveats in the documentation: http://pandas.pydata.org/pandas-docs/stable/indexing.html#indexing-view-versus-copy\n",
      "c:\\users\\admin\\appdata\\local\\programs\\python\\python36\\lib\\site-packages\\ipykernel_launcher.py:28: SettingWithCopyWarning: \n",
      "A value is trying to be set on a copy of a slice from a DataFrame\n",
      "\n",
      "See the caveats in the documentation: http://pandas.pydata.org/pandas-docs/stable/indexing.html#indexing-view-versus-copy\n",
      "c:\\users\\admin\\appdata\\local\\programs\\python\\python36\\lib\\site-packages\\ipykernel_launcher.py:39: SettingWithCopyWarning: \n",
      "A value is trying to be set on a copy of a slice from a DataFrame\n",
      "\n",
      "See the caveats in the documentation: http://pandas.pydata.org/pandas-docs/stable/indexing.html#indexing-view-versus-copy\n",
      "c:\\users\\admin\\appdata\\local\\programs\\python\\python36\\lib\\site-packages\\ipykernel_launcher.py:40: SettingWithCopyWarning: \n",
      "A value is trying to be set on a copy of a slice from a DataFrame\n",
      "\n",
      "See the caveats in the documentation: http://pandas.pydata.org/pandas-docs/stable/indexing.html#indexing-view-versus-copy\n"
     ]
    }
   ],
   "source": [
    "import pandas as pd\n",
    "import numpy as np\n",
    "\n",
    "import xgboost as xgb\n",
    "from sklearn.preprocessing import LabelEncoder\n",
    "from sklearn.model_selection import train_test_split\n",
    "from sklearn.metrics import make_scorer, accuracy_score\n",
    "from sklearn.model_selection import GridSearchCV\n",
    "\n",
    "from xgboost import XGBClassifier\n",
    "\n",
    "data = pd.read_csv('train_jqd04QH.csv')\n",
    "test = pd.read_csv('test_GYi4Gz5.csv')\n",
    "\n",
    "# #Replacing Null values of Company_type to Other\n",
    "data['company_type'].fillna('NpO', inplace = True)\n",
    "test['company_type'].fillna('NpO', inplace = True)\n",
    "\n",
    "#replacing with medium company size\n",
    "data['company_size'].fillna('50-99', inplace  = True)\n",
    "test['company_size'].fillna('50-99', inplace  = True)\n",
    "\n",
    "# # #Managing all values accordingly\n",
    "data.experience[data.experience == '>20'] = 20 \n",
    "data.experience[data.experience == '<1'] = 1 \n",
    "\n",
    "test.experience[test.experience == '>20'] = 20 \n",
    "test.experience[test.experience == '<1'] = 1 \n",
    "\n",
    "# #Replacing NULL values in experience with median\n",
    "data['experience'].fillna(9, inplace = True)\n",
    "test['experience'].fillna(9, inplace = True)\n",
    "\n",
    "# #Replacing all values in major decipline with 'Other\n",
    "data['major_discipline'].fillna('Other', inplace = True)\n",
    "test['major_discipline'].fillna('Other', inplace = True)\n",
    "\n",
    "# #Handling all the values \n",
    "data.last_new_job[data.last_new_job == '>4'] = 5 \n",
    "test.last_new_job[test.last_new_job == '>4'] = 5 \n",
    "\n",
    "# #Replscing all the NULL values with Mode\n",
    "data['last_new_job'].fillna(2, inplace = True)\n",
    "test['last_new_job'].fillna(2, inplace = True)\n",
    "\n",
    "# #Replacing all the NULL values in education_evel with mode\n",
    "data['education_level'].fillna('Masters', inplace = True)\n",
    "test['education_level'].fillna('Masters', inplace = True) \n",
    "\n",
    "# #Replacing all the NULL values in enrolled university with mode\n",
    "data['enrolled_university'].fillna('Part time course', inplace = True)\n",
    "test['enrolled_university'].fillna('Part time course', inplace = True)\n",
    "\n",
    "# #Filling NULL values with mode\n",
    "data.gender.fillna('Other', inplace =  True) #data['gender'].mode()[0]\n",
    "test.gender.fillna('Other', inplace =  True) #test['gender'].mode()[0]\n",
    "\n",
    "X = data.drop(['target'] ,axis = 1)\n",
    "y = data['target'].copy()\n",
    "X_test = test\n",
    "\n",
    "            \n",
    "\n",
    "X = pd.concat([X.get(['enrollee_id','city','city_development_index', 'gender', 'relevent_experience', 'experience',\n",
    "                                                                            'last_new_job', 'training_hours' ]),\n",
    "                           pd.get_dummies(X['enrolled_university'], prefix='enrolled_university'),\n",
    "                           pd.get_dummies(X['education_level'], prefix='education_level'),\n",
    "                           pd.get_dummies(X['major_discipline'], prefix='major_discipline'),\n",
    "                           pd.get_dummies(X['company_size'], prefix='company_size'),\n",
    "                           pd.get_dummies(X['company_type'], prefix='company_type')],axis=1)\n",
    "\n",
    "X_test = pd.concat([X_test.get(['enrollee_id','city','city_development_index', 'gender', 'relevent_experience', 'experience',\n",
    "                                                                            'last_new_job', 'training_hours' ]),\n",
    "                           pd.get_dummies(X_test['enrolled_university'], prefix='enrolled_university'),\n",
    "                           pd.get_dummies(X_test['education_level'], prefix='education_level'),\n",
    "                           pd.get_dummies(X_test['major_discipline'], prefix='major_discipline'),\n",
    "                           pd.get_dummies(X_test['company_size'], prefix='company_size'),\n",
    "                           pd.get_dummies(X_test['company_type'], prefix='company_type')],axis=1)\n",
    "\n",
    "from sklearn.model_selection import train_test_split\n",
    "X_train, X_val, y_train, y_val = train_test_split(X, y, test_size=0.10, random_state=42)\n"
   ]
  },
  {
   "cell_type": "code",
   "execution_count": 32,
   "metadata": {},
   "outputs": [],
   "source": [
    "\n",
    "from sklearn import preprocessing\n",
    "\n",
    "for i in X.columns:\n",
    "    if X[i].dtype == 'object':\n",
    "        if len(list(X[i].unique())) >=2:\n",
    "            #cols.append(i)\n",
    "            le = preprocessing.LabelEncoder()\n",
    "            le.fit(X[i].astype(str))\n",
    "            X[i] = le.transform(X[i].astype(str))\n",
    "            X_test[i] = le.transform(X_test[i].astype(str))\n",
    "            #X_val[i] =   le.transform(X_val[i].astype(str))\n",
    "            #X_test[i] =  le.transform(X_test[i].astype(str))"
   ]
  },
  {
   "cell_type": "markdown",
   "metadata": {},
   "source": [
    "# Stacking"
   ]
  },
  {
   "cell_type": "code",
   "execution_count": 37,
   "metadata": {},
   "outputs": [],
   "source": [
    "from sklearn import model_selection\n",
    "from sklearn.linear_model import LogisticRegression\n",
    "from sklearn.neighbors import KNeighborsClassifier\n",
    "from sklearn.naive_bayes import GaussianNB,MultinomialNB\n",
    "from sklearn.ensemble import RandomForestClassifier,GradientBoostingClassifier\n",
    "from sklearn.ensemble import AdaBoostClassifier\n",
    "from sklearn.tree import DecisionTreeClassifier\n",
    "from sklearn.metrics import roc_auc_score,accuracy_score\n",
    "\n",
    "from mlxtend.classifier import StackingClassifier\n",
    "from sklearn.model_selection import KFold\n",
    "\n",
    "from sklearn.svm import LinearSVC"
   ]
  },
  {
   "cell_type": "code",
   "execution_count": 38,
   "metadata": {},
   "outputs": [],
   "source": [
    "X.columns = ['enrollee_id', 'city', 'city_development_index', 'gender',\n",
    "       'relevent_experience', 'experience', 'last_new_job', 'training_hours',\n",
    "       'enrolled_university_Full time course',\n",
    "       'enrolled_university_Part time course',\n",
    "       'enrolled_university_no_enrollment', 'education_level_Graduate',\n",
    "       'education_level_High School', 'education_level_Masters',\n",
    "       'education_level_Phd', 'education_level_Primary School',\n",
    "       'major_discipline_Arts', 'major_discipline_Business Degree',\n",
    "       'major_discipline_Humanities', 'major_discipline_No Major',\n",
    "       'major_discipline_Other', 'major_discipline_STEM', 'company_size_10/49',\n",
    "       'company_size_100-500', 'company_size_1000-4999', 'company_size_10000+',\n",
    "       'company_size_50-99', 'company_size_500-999', 'company_size_5000-9999',\n",
    "       'company_size_10', 'company_type_Early Stage Startup',\n",
    "       'company_type_Funded Startup', 'company_type_NGO', 'company_type_NpO',\n",
    "       'company_type_Other', 'company_type_Public Sector',\n",
    "       'company_type_Pvt Ltd']\n",
    "X_test.columns = ['enrollee_id', 'city', 'city_development_index', 'gender',\n",
    "       'relevent_experience', 'experience', 'last_new_job', 'training_hours',\n",
    "       'enrolled_university_Full time course',\n",
    "       'enrolled_university_Part time course',\n",
    "       'enrolled_university_no_enrollment', 'education_level_Graduate',\n",
    "       'education_level_High School', 'education_level_Masters',\n",
    "       'education_level_Phd', 'education_level_Primary School',\n",
    "       'major_discipline_Arts', 'major_discipline_Business Degree',\n",
    "       'major_discipline_Humanities', 'major_discipline_No Major',\n",
    "       'major_discipline_Other', 'major_discipline_STEM', 'company_size_10/49',\n",
    "       'company_size_100-500', 'company_size_1000-4999', 'company_size_10000+',\n",
    "       'company_size_50-99', 'company_size_500-999', 'company_size_5000-9999',\n",
    "       'company_size_10', 'company_type_Early Stage Startup',\n",
    "       'company_type_Funded Startup', 'company_type_NGO', 'company_type_NpO',\n",
    "       'company_type_Other', 'company_type_Public Sector',\n",
    "       'company_type_Pvt Ltd']"
   ]
  },
  {
   "cell_type": "code",
   "execution_count": 39,
   "metadata": {},
   "outputs": [],
   "source": [
    "lgb_params2 = {}\n",
    "lgb_params2['n_estimators'] = 1090\n",
    "lgb_params2['learning_rate'] = 0.05\n",
    "lgb_params2['colsample_bytree'] = 0.3   \n",
    "lgb_params2['subsample'] = 0.7\n",
    "lgb_params2['subsample_freq'] = 2\n",
    "lgb_params2['num_leaves'] = 16\n",
    "lgb_params2['seed'] = 99\n",
    "\n",
    "\n",
    "lgb_params3 = {}\n",
    "lgb_params3['n_estimators'] = 1100\n",
    "lgb_params3['max_depth'] = 4\n",
    "lgb_params3['learning_rate'] = 0.05\n",
    "lgb_params3['seed'] = 99\n"
   ]
  },
  {
   "cell_type": "code",
   "execution_count": 40,
   "metadata": {},
   "outputs": [],
   "source": [
    "clf1 =  KNeighborsClassifier(n_neighbors=1) #K Nearest Neighbours in Sklearn\n",
    "clf2 =  RandomForestClassifier(random_state=42) #Random forest Classifier\n",
    "#clf3 = MultinomialNB()  #Gaussian Naive Bayes\n",
    "clf3 =  LinearSVC(random_state=67, C= 5,multi_class = 'ovr') #Linear SVC\n",
    "clf4 =  GradientBoostingClassifier(n_estimators=100, random_state=42)\n",
    "lr = LogisticRegression() #Logestic Regression\n",
    "lgb_model = LGBMClassifier(**lgb_params3)\n",
    "\n",
    "lgb_model2 = LGBMClassifier(**lgb_params2)\n",
    "\n",
    "sclf = StackingClassifier(classifiers=[clf1, clf2, clf3, lgb_model, lgb_model2], \n",
    "                          meta_classifier=lr)\n"
   ]
  },
  {
   "cell_type": "code",
   "execution_count": 46,
   "metadata": {},
   "outputs": [
    {
     "name": "stderr",
     "output_type": "stream",
     "text": [
      "c:\\users\\admin\\appdata\\local\\programs\\python\\python36\\lib\\site-packages\\sklearn\\preprocessing\\label.py:151: DeprecationWarning: The truth value of an empty array is ambiguous. Returning False, but in future this will result in an error. Use `array.size > 0` to check that an array is not empty.\n",
      "  if diff:\n",
      "c:\\users\\admin\\appdata\\local\\programs\\python\\python36\\lib\\site-packages\\sklearn\\preprocessing\\label.py:151: DeprecationWarning: The truth value of an empty array is ambiguous. Returning False, but in future this will result in an error. Use `array.size > 0` to check that an array is not empty.\n",
      "  if diff:\n",
      "c:\\users\\admin\\appdata\\local\\programs\\python\\python36\\lib\\site-packages\\sklearn\\preprocessing\\label.py:151: DeprecationWarning: The truth value of an empty array is ambiguous. Returning False, but in future this will result in an error. Use `array.size > 0` to check that an array is not empty.\n",
      "  if diff:\n",
      "c:\\users\\admin\\appdata\\local\\programs\\python\\python36\\lib\\site-packages\\sklearn\\preprocessing\\label.py:151: DeprecationWarning: The truth value of an empty array is ambiguous. Returning False, but in future this will result in an error. Use `array.size > 0` to check that an array is not empty.\n",
      "  if diff:\n"
     ]
    }
   ],
   "source": [
    "sclf.fit(X,y)\n",
    "pred = sclf.predict_proba(X_test)"
   ]
  },
  {
   "cell_type": "code",
   "execution_count": 47,
   "metadata": {},
   "outputs": [],
   "source": [
    "sub = pd.read_csv('sample_submission_sxfcbdx.csv')"
   ]
  },
  {
   "cell_type": "code",
   "execution_count": 51,
   "metadata": {},
   "outputs": [
    {
     "data": {
      "text/plain": [
       "array([0.00240158, 0.00109903, 0.00109903, ..., 0.01611211, 0.97894781,\n",
       "       0.01611211])"
      ]
     },
     "execution_count": 51,
     "metadata": {},
     "output_type": "execute_result"
    }
   ],
   "source": [
    "pred[:,1]"
   ]
  },
  {
   "cell_type": "code",
   "execution_count": 53,
   "metadata": {},
   "outputs": [],
   "source": [
    "sub['target'] = pred[:,1]"
   ]
  },
  {
   "cell_type": "code",
   "execution_count": 54,
   "metadata": {},
   "outputs": [],
   "source": [
    "sub.to_csv('stacks.csv', index =False)"
   ]
  },
  {
   "cell_type": "code",
   "execution_count": null,
   "metadata": {},
   "outputs": [],
   "source": []
  },
  {
   "cell_type": "code",
   "execution_count": null,
   "metadata": {},
   "outputs": [],
   "source": []
  }
 ],
 "metadata": {
  "kernelspec": {
   "display_name": "Python 3",
   "language": "python",
   "name": "python3"
  },
  "language_info": {
   "codemirror_mode": {
    "name": "ipython",
    "version": 3
   },
   "file_extension": ".py",
   "mimetype": "text/x-python",
   "name": "python",
   "nbconvert_exporter": "python",
   "pygments_lexer": "ipython3",
   "version": "3.6.5"
  }
 },
 "nbformat": 4,
 "nbformat_minor": 2
}
